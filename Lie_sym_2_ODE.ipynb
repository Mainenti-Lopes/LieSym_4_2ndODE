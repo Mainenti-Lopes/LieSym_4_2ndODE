{
 "cells": [
  {
   "cell_type": "code",
   "execution_count": 25,
   "metadata": {},
   "outputs": [
    {
     "data": {
      "text/latex": [
       "$\\displaystyle - y_{1} \\left(y_{1} \\frac{\\partial}{\\partial y} \\xi{\\left(x,y \\right)} + \\frac{\\partial}{\\partial x} \\xi{\\left(x,y \\right)}\\right) + y_{1} \\frac{\\partial}{\\partial y} \\eta{\\left(x,y \\right)} + \\frac{\\partial}{\\partial x} \\eta{\\left(x,y \\right)}$"
      ],
      "text/plain": [
       "-y1*(y1*Derivative(xi(x, y), y) + Derivative(xi(x, y), x)) + y1*Derivative(eta(x, y), y) + Derivative(eta(x, y), x)"
      ]
     },
     "execution_count": 25,
     "metadata": {},
     "output_type": "execute_result"
    }
   ],
   "source": [
    "# Given a 2nd order ODE,\n",
    "# calculate the PDEs that determine the Lie symmetries\n",
    "\n",
    "from sympy import *\n",
    "\n",
    "# Declaration of variables\n",
    "x, y, y1, y2 = symbols('x y y1 y2')\n",
    "# Declaration of constants k1 = k, k2 = epsilon*sigma*A, Ta = Ta^4\n",
    "a1, a2, a3, a4, a5 = symbols('a1 a2 a3 a4 a5')\n",
    "\n",
    "# Declaration of functions \\xi and \\eta\n",
    "xi = Function('xi')\n",
    "n = Function('eta')\n",
    "n_1 = n(x,y).diff(x) + y1*n(x,y).diff(y) - y1*(xi(x,y).diff(x) + y1*xi(x,y).diff(y))\n",
    "n_2 = n_1.diff(x) + y1*n_1.diff(y) + y2*n_1.diff(y1) - y2*(xi(x,y).diff(x) + y1*xi(x,y).diff(y))\n",
    "\n",
    "simplify(n_1)"
   ]
  },
  {
   "cell_type": "code",
   "execution_count": 26,
   "metadata": {},
   "outputs": [
    {
     "data": {
      "text/latex": [
       "$\\displaystyle - y_{1}^{3} \\frac{\\partial^{2}}{\\partial y^{2}} \\xi{\\left(x,y \\right)} + y_{1}^{2} \\frac{\\partial^{2}}{\\partial y^{2}} \\eta{\\left(x,y \\right)} - 2 y_{1}^{2} \\frac{\\partial^{2}}{\\partial y\\partial x} \\xi{\\left(x,y \\right)} - 3 y_{1} y_{2} \\frac{\\partial}{\\partial y} \\xi{\\left(x,y \\right)} - y_{1} \\frac{\\partial^{2}}{\\partial x^{2}} \\xi{\\left(x,y \\right)} + 2 y_{1} \\frac{\\partial^{2}}{\\partial y\\partial x} \\eta{\\left(x,y \\right)} + y_{2} \\frac{\\partial}{\\partial y} \\eta{\\left(x,y \\right)} - 2 y_{2} \\frac{\\partial}{\\partial x} \\xi{\\left(x,y \\right)} + \\frac{\\partial^{2}}{\\partial x^{2}} \\eta{\\left(x,y \\right)}$"
      ],
      "text/plain": [
       "-y1**3*Derivative(xi(x, y), (y, 2)) + y1**2*Derivative(eta(x, y), (y, 2)) - 2*y1**2*Derivative(xi(x, y), x, y) - 3*y1*y2*Derivative(xi(x, y), y) - y1*Derivative(xi(x, y), (x, 2)) + 2*y1*Derivative(eta(x, y), x, y) + y2*Derivative(eta(x, y), y) - 2*y2*Derivative(xi(x, y), x) + Derivative(eta(x, y), (x, 2))"
      ]
     },
     "execution_count": 26,
     "metadata": {},
     "output_type": "execute_result"
    }
   ],
   "source": [
    "simplify(n_2)"
   ]
  },
  {
   "cell_type": "code",
   "execution_count": 27,
   "metadata": {},
   "outputs": [
    {
     "data": {
      "text/latex": [
       "$\\displaystyle a_{1} y_{1} + a_{2} y^{3} y_{1} + a_{3} y^{4} - a_{4} + a_{5} y + y_{2} = 0$"
      ],
      "text/plain": [
       "Eq(a1*y1 + a2*y**3*y1 + a3*y**4 - a4 + a5*y + y2, 0)"
      ]
     },
     "execution_count": 27,
     "metadata": {},
     "output_type": "execute_result"
    }
   ],
   "source": [
    "# Definition of ODE\n",
    "w = -a1*y1 - a2*y**3*y1 - a3*y**4 + a4 - a5*y\n",
    "Eq(y2 - w,0)"
   ]
  },
  {
   "cell_type": "code",
   "execution_count": 28,
   "metadata": {},
   "outputs": [
    {
     "data": {
      "text/latex": [
       "$\\displaystyle - y_{1} \\left(y_{1} \\frac{\\partial^{2}}{\\partial y\\partial x} \\xi{\\left(x,y \\right)} + \\frac{\\partial^{2}}{\\partial x^{2}} \\xi{\\left(x,y \\right)}\\right) + y_{1} \\left(- y_{1} \\left(y_{1} \\frac{\\partial^{2}}{\\partial y^{2}} \\xi{\\left(x,y \\right)} + \\frac{\\partial^{2}}{\\partial y\\partial x} \\xi{\\left(x,y \\right)}\\right) + y_{1} \\frac{\\partial^{2}}{\\partial y^{2}} \\eta{\\left(x,y \\right)} + \\frac{\\partial^{2}}{\\partial y\\partial x} \\eta{\\left(x,y \\right)}\\right) + y_{1} \\frac{\\partial^{2}}{\\partial y\\partial x} \\eta{\\left(x,y \\right)} + \\left(a_{1} + a_{2} y^{3}\\right) \\left(- y_{1} \\left(y_{1} \\frac{\\partial}{\\partial y} \\xi{\\left(x,y \\right)} + \\frac{\\partial}{\\partial x} \\xi{\\left(x,y \\right)}\\right) + y_{1} \\frac{\\partial}{\\partial y} \\eta{\\left(x,y \\right)} + \\frac{\\partial}{\\partial x} \\eta{\\left(x,y \\right)}\\right) - \\left(y_{1} \\frac{\\partial}{\\partial y} \\xi{\\left(x,y \\right)} + \\frac{\\partial}{\\partial x} \\xi{\\left(x,y \\right)}\\right) \\left(- a_{1} y_{1} - a_{2} y^{3} y_{1} - a_{3} y^{4} + a_{4} - a_{5} y\\right) - \\left(2 y_{1} \\frac{\\partial}{\\partial y} \\xi{\\left(x,y \\right)} - \\frac{\\partial}{\\partial y} \\eta{\\left(x,y \\right)} + \\frac{\\partial}{\\partial x} \\xi{\\left(x,y \\right)}\\right) \\left(- a_{1} y_{1} - a_{2} y^{3} y_{1} - a_{3} y^{4} + a_{4} - a_{5} y\\right) + \\left(3 a_{2} y^{2} y_{1} + 4 a_{3} y^{3} + a_{5}\\right) \\eta{\\left(x,y \\right)} + \\frac{\\partial^{2}}{\\partial x^{2}} \\eta{\\left(x,y \\right)}$"
      ],
      "text/plain": [
       "-y1*(y1*Derivative(xi(x, y), x, y) + Derivative(xi(x, y), (x, 2))) + y1*(-y1*(y1*Derivative(xi(x, y), (y, 2)) + Derivative(xi(x, y), x, y)) + y1*Derivative(eta(x, y), (y, 2)) + Derivative(eta(x, y), x, y)) + y1*Derivative(eta(x, y), x, y) + (a1 + a2*y**3)*(-y1*(y1*Derivative(xi(x, y), y) + Derivative(xi(x, y), x)) + y1*Derivative(eta(x, y), y) + Derivative(eta(x, y), x)) - (y1*Derivative(xi(x, y), y) + Derivative(xi(x, y), x))*(-a1*y1 - a2*y**3*y1 - a3*y**4 + a4 - a5*y) - (2*y1*Derivative(xi(x, y), y) - Derivative(eta(x, y), y) + Derivative(xi(x, y), x))*(-a1*y1 - a2*y**3*y1 - a3*y**4 + a4 - a5*y) + (3*a2*y**2*y1 + 4*a3*y**3 + a5)*eta(x, y) + Derivative(eta(x, y), (x, 2))"
      ]
     },
     "execution_count": 28,
     "metadata": {},
     "output_type": "execute_result"
    }
   ],
   "source": [
    "# Calculation of the symmetry condition\n",
    "\n",
    "Xf = simplify(xi(x,y)*diff(y2 - w,x) + n(x,y)*diff(y2 - w,y) + n_1*diff(y2 - w,y1) + n_2*diff(y2 - w,y2))\n",
    "Xf = Xf.subs(y2,w)\n",
    "Xf"
   ]
  },
  {
   "cell_type": "code",
   "execution_count": 29,
   "metadata": {},
   "outputs": [
    {
     "data": {
      "text/latex": [
       "$\\displaystyle \\operatorname{Poly}{\\left( - \\frac{\\partial^{2}}{\\partial y^{2}} \\xi{\\left(x,y \\right)} y_{1}^{3} + \\left(2 a_{1} \\frac{\\partial}{\\partial y} \\xi{\\left(x,y \\right)} + 2 a_{2} y^{3} \\frac{\\partial}{\\partial y} \\xi{\\left(x,y \\right)} + \\frac{\\partial^{2}}{\\partial y^{2}} \\eta{\\left(x,y \\right)} - 2 \\frac{\\partial^{2}}{\\partial y\\partial x} \\xi{\\left(x,y \\right)}\\right) y_{1}^{2} + \\left(a_{1} \\frac{\\partial}{\\partial x} \\xi{\\left(x,y \\right)} + a_{2} y^{3} \\frac{\\partial}{\\partial x} \\xi{\\left(x,y \\right)} + 3 a_{2} y^{2} \\eta{\\left(x,y \\right)} + 3 a_{3} y^{4} \\frac{\\partial}{\\partial y} \\xi{\\left(x,y \\right)} - 3 a_{4} \\frac{\\partial}{\\partial y} \\xi{\\left(x,y \\right)} + 3 a_{5} y \\frac{\\partial}{\\partial y} \\xi{\\left(x,y \\right)} - \\frac{\\partial^{2}}{\\partial x^{2}} \\xi{\\left(x,y \\right)} + 2 \\frac{\\partial^{2}}{\\partial y\\partial x} \\eta{\\left(x,y \\right)}\\right) y_{1} + a_{1} \\frac{\\partial}{\\partial x} \\eta{\\left(x,y \\right)} + a_{2} y^{3} \\frac{\\partial}{\\partial x} \\eta{\\left(x,y \\right)} - a_{3} y^{4} \\frac{\\partial}{\\partial y} \\eta{\\left(x,y \\right)} + 2 a_{3} y^{4} \\frac{\\partial}{\\partial x} \\xi{\\left(x,y \\right)} + 4 a_{3} y^{3} \\eta{\\left(x,y \\right)} + a_{4} \\frac{\\partial}{\\partial y} \\eta{\\left(x,y \\right)} - 2 a_{4} \\frac{\\partial}{\\partial x} \\xi{\\left(x,y \\right)} - a_{5} y \\frac{\\partial}{\\partial y} \\eta{\\left(x,y \\right)} + 2 a_{5} y \\frac{\\partial}{\\partial x} \\xi{\\left(x,y \\right)} + a_{5} \\eta{\\left(x,y \\right)} + \\frac{\\partial^{2}}{\\partial x^{2}} \\eta{\\left(x,y \\right)}, y_{1}, y_{2}, domain=EX \\right)}$"
      ],
      "text/plain": [
       "Poly(-Derivative(xi(x, y), (y, 2))*y1**3 + (2*a1*Derivative(xi(x, y), y) + 2*a2*y**3*Derivative(xi(x, y), y) + Derivative(eta(x, y), (y, 2)) - 2*Derivative(xi(x, y), x, y))*y1**2 + (a1*Derivative(xi(x, y), x) + a2*y**3*Derivative(xi(x, y), x) + 3*a2*y**2*eta(x, y) + 3*a3*y**4*Derivative(xi(x, y), y) - 3*a4*Derivative(xi(x, y), y) + 3*a5*y*Derivative(xi(x, y), y) - Derivative(xi(x, y), (x, 2)) + 2*Derivative(eta(x, y), x, y))*y1 + a1*Derivative(eta(x, y), x) + a2*y**3*Derivative(eta(x, y), x) - a3*y**4*Derivative(eta(x, y), y) + 2*a3*y**4*Derivative(xi(x, y), x) + 4*a3*y**3*eta(x, y) + a4*Derivative(eta(x, y), y) - 2*a4*Derivative(xi(x, y), x) - a5*y*Derivative(eta(x, y), y) + 2*a5*y*Derivative(xi(x, y), x) + a5*eta(x, y) + Derivative(eta(x, y), (x, 2)), y1, y2, domain='EX')"
      ]
     },
     "execution_count": 29,
     "metadata": {},
     "output_type": "execute_result"
    }
   ],
   "source": [
    "Poly(Xf, y1, y2)"
   ]
  },
  {
   "cell_type": "code",
   "execution_count": 30,
   "metadata": {},
   "outputs": [
    {
     "data": {
      "text/latex": [
       "$\\displaystyle a_{1} \\frac{\\partial}{\\partial x} \\xi{\\left(x,y \\right)} + a_{2} y^{3} \\frac{\\partial}{\\partial x} \\xi{\\left(x,y \\right)} + 3 a_{2} y^{2} \\eta{\\left(x,y \\right)} + 3 a_{3} y^{4} \\frac{\\partial}{\\partial y} \\xi{\\left(x,y \\right)} - 3 a_{4} \\frac{\\partial}{\\partial y} \\xi{\\left(x,y \\right)} + 3 a_{5} y \\frac{\\partial}{\\partial y} \\xi{\\left(x,y \\right)} - \\frac{\\partial^{2}}{\\partial x^{2}} \\xi{\\left(x,y \\right)} + 2 \\frac{\\partial^{2}}{\\partial y\\partial x} \\eta{\\left(x,y \\right)}$"
      ],
      "text/plain": [
       "a1*Derivative(xi(x, y), x) + a2*y**3*Derivative(xi(x, y), x) + 3*a2*y**2*eta(x, y) + 3*a3*y**4*Derivative(xi(x, y), y) - 3*a4*Derivative(xi(x, y), y) + 3*a5*y*Derivative(xi(x, y), y) - Derivative(xi(x, y), (x, 2)) + 2*Derivative(eta(x, y), x, y)"
      ]
     },
     "execution_count": 30,
     "metadata": {},
     "output_type": "execute_result"
    }
   ],
   "source": [
    "Cy11 = Poly(Xf, y1, y2).coeff_monomial(y1)\n",
    "Cy11"
   ]
  },
  {
   "cell_type": "code",
   "execution_count": 31,
   "metadata": {},
   "outputs": [
    {
     "data": {
      "text/latex": [
       "$\\displaystyle 2 a_{1} \\frac{\\partial}{\\partial y} \\xi{\\left(x,y \\right)} + 2 a_{2} y^{3} \\frac{\\partial}{\\partial y} \\xi{\\left(x,y \\right)} + \\frac{\\partial^{2}}{\\partial y^{2}} \\eta{\\left(x,y \\right)} - 2 \\frac{\\partial^{2}}{\\partial y\\partial x} \\xi{\\left(x,y \\right)}$"
      ],
      "text/plain": [
       "2*a1*Derivative(xi(x, y), y) + 2*a2*y**3*Derivative(xi(x, y), y) + Derivative(eta(x, y), (y, 2)) - 2*Derivative(xi(x, y), x, y)"
      ]
     },
     "execution_count": 31,
     "metadata": {},
     "output_type": "execute_result"
    }
   ],
   "source": [
    "Cy12 = Poly(Xf, y1, y2).coeff_monomial(y1**2)\n",
    "Cy12"
   ]
  },
  {
   "cell_type": "code",
   "execution_count": 32,
   "metadata": {},
   "outputs": [
    {
     "data": {
      "text/latex": [
       "$\\displaystyle - \\frac{\\partial^{2}}{\\partial y^{2}} \\xi{\\left(x,y \\right)}$"
      ],
      "text/plain": [
       "-Derivative(xi(x, y), (y, 2))"
      ]
     },
     "execution_count": 32,
     "metadata": {},
     "output_type": "execute_result"
    }
   ],
   "source": [
    "Cy13 = Poly(Xf, y1, y2).coeff_monomial(y1**3)\n",
    "Cy13"
   ]
  },
  {
   "cell_type": "code",
   "execution_count": 33,
   "metadata": {},
   "outputs": [
    {
     "data": {
      "text/latex": [
       "$\\displaystyle 0$"
      ],
      "text/plain": [
       "0"
      ]
     },
     "execution_count": 33,
     "metadata": {},
     "output_type": "execute_result"
    }
   ],
   "source": [
    "Cy1y2 = Poly(Xf, y1, y2).coeff_monomial(y1*y2)\n",
    "Cy1y2"
   ]
  },
  {
   "cell_type": "code",
   "execution_count": 34,
   "metadata": {},
   "outputs": [
    {
     "data": {
      "text/latex": [
       "$\\displaystyle 0$"
      ],
      "text/plain": [
       "0"
      ]
     },
     "execution_count": 34,
     "metadata": {},
     "output_type": "execute_result"
    }
   ],
   "source": [
    "Cy21 = Poly(Xf, y1, y2).coeff_monomial(y2)\n",
    "Cy21"
   ]
  },
  {
   "cell_type": "code",
   "execution_count": 35,
   "metadata": {},
   "outputs": [
    {
     "data": {
      "text/latex": [
       "$\\displaystyle 0$"
      ],
      "text/plain": [
       "0"
      ]
     },
     "execution_count": 35,
     "metadata": {},
     "output_type": "execute_result"
    }
   ],
   "source": [
    "Cy22 = Poly(Xf, y1, y2).coeff_monomial(y2**2)\n",
    "Cy22"
   ]
  },
  {
   "cell_type": "code",
   "execution_count": 36,
   "metadata": {},
   "outputs": [
    {
     "data": {
      "text/latex": [
       "$\\displaystyle a_{1} \\frac{\\partial}{\\partial x} \\eta{\\left(x,y \\right)} + a_{2} y^{3} \\frac{\\partial}{\\partial x} \\eta{\\left(x,y \\right)} - a_{3} y^{4} \\frac{\\partial}{\\partial y} \\eta{\\left(x,y \\right)} + 2 a_{3} y^{4} \\frac{\\partial}{\\partial x} \\xi{\\left(x,y \\right)} + 4 a_{3} y^{3} \\eta{\\left(x,y \\right)} + a_{4} \\frac{\\partial}{\\partial y} \\eta{\\left(x,y \\right)} - 2 a_{4} \\frac{\\partial}{\\partial x} \\xi{\\left(x,y \\right)} - a_{5} y \\frac{\\partial}{\\partial y} \\eta{\\left(x,y \\right)} + 2 a_{5} y \\frac{\\partial}{\\partial x} \\xi{\\left(x,y \\right)} + a_{5} \\eta{\\left(x,y \\right)} + \\frac{\\partial^{2}}{\\partial x^{2}} \\eta{\\left(x,y \\right)}$"
      ],
      "text/plain": [
       "a1*Derivative(eta(x, y), x) + a2*y**3*Derivative(eta(x, y), x) - a3*y**4*Derivative(eta(x, y), y) + 2*a3*y**4*Derivative(xi(x, y), x) + 4*a3*y**3*eta(x, y) + a4*Derivative(eta(x, y), y) - 2*a4*Derivative(xi(x, y), x) - a5*y*Derivative(eta(x, y), y) + 2*a5*y*Derivative(xi(x, y), x) + a5*eta(x, y) + Derivative(eta(x, y), (x, 2))"
      ]
     },
     "execution_count": 36,
     "metadata": {},
     "output_type": "execute_result"
    }
   ],
   "source": [
    "simplify(Xf - Cy11*y1 - Cy12*y1**2 - Cy13*y1**3 - Cy1y2*y1*y2 - Cy21*y2)"
   ]
  }
 ],
 "metadata": {
  "kernelspec": {
   "display_name": "Python 3",
   "language": "python",
   "name": "python3"
  },
  "language_info": {
   "codemirror_mode": {
    "name": "ipython",
    "version": 3
   },
   "file_extension": ".py",
   "mimetype": "text/x-python",
   "name": "python",
   "nbconvert_exporter": "python",
   "pygments_lexer": "ipython3",
   "version": "3.8.5"
  }
 },
 "nbformat": 4,
 "nbformat_minor": 4
}
